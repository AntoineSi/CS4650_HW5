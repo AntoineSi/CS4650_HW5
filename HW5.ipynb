{
 "cells": [
  {
   "cell_type": "code",
   "execution_count": null,
   "metadata": {},
   "outputs": [],
   "source": [
    "!pip install spacy"
   ]
  },
  {
   "cell_type": "code",
   "execution_count": null,
   "metadata": {},
   "outputs": [],
   "source": [
    "!pip install newsapi-python"
   ]
  },
  {
   "cell_type": "code",
   "execution_count": null,
   "metadata": {},
   "outputs": [],
   "source": [
    "!python -m spacy download en_core_web_lg\n",
    "nlp_eng = en_code_web_lg.load()\n",
    "newsapi = NewsApiClient (api_key='PLACE_HERE_YOUR_API_KEY')"
   ]
  },
  {
   "cell_type": "code",
   "execution_count": null,
   "metadata": {},
   "outputs": [],
   "source": [
    "import spacy\n",
    "from newsapi import NewsApiClient\n",
    "\n",
    "nlp_eng = spacy.load('en_core_web_lg')\n",
    "newsapi = NewsApiClient (api_key = 'PLACE_HERE_YOUR_API_KEY')"
   ]
  },
  {
   "cell_type": "code",
   "execution_count": null,
   "metadata": {},
   "outputs": [],
   "source": [
    "def getSomething(x):\n",
    "    temp = newsapi.get_everything(q='coronavirus', language='en', from_param='2020-09-30', to='2020-10-30', sort_by='relevancy', page=x)\n",
    "    return temp\n",
    "\n",
    "\n",
    "articles = list(map(getSomething, range(1,6)))"
   ]
  },
  {
   "cell_type": "code",
   "execution_count": null,
   "metadata": {},
   "outputs": [],
   "source": [
    "import pickle\n",
    "filename = 'articlesCOVID.pckl'\n",
    "pickle.dump(articles, open(filename, 'wb'))\n",
    "filename = 'articlesCOVID.pckl'\n",
    "loaded_model = pickle.load(open(filename, 'rb'))\n",
    "filepath = 'articlesCOVID.pckl'\n",
    "pickle.dump(loaded_model, open(filepath, 'wb'))"
   ]
  },
  {
   "cell_type": "code",
   "execution_count": null,
   "metadata": {},
   "outputs": [],
   "source": [
    "import pandas as pd\n",
    "dados = []\n",
    "for i, article in enumerate(articles):\n",
    "    for x in article['articles']:\n",
    "        title = x['title']\n",
    "        date = x['publishedAt']\n",
    "        description = x['description']\n",
    "        content = x['content']\n",
    "        dados.append({'title':title[0], 'date':date[0], 'desc':description[0], 'content':content})\n",
    "df = pd.DataFrame(dados)\n",
    "df = df.dropna()\n",
    "df.head()"
   ]
  },
  {
   "cell_type": "code",
   "execution_count": null,
   "metadata": {},
   "outputs": [],
   "source": [
    "from collections import Counter\n",
    "from string import punctuation\n",
    "\n",
    "def get_keywords_eng(text): \n",
    "    result = []\n",
    "    pos_tag = ['PROPN', 'VERB', 'NOUN']\n",
    "    doc = nlp_eng(text.lower())\n",
    "    for token in doc:\n",
    "        if (token.text in nlp_eng.Defaults.stop_words or token.text in punctuation):\n",
    "              continue\n",
    "        if (token.pos_ in pos_tag):\n",
    "              result.append(token.text)\n",
    "    return result\n",
    "\n",
    "results = []\n",
    "for content in df.content.values:\n",
    "    results.append([('#' + x[0]) for x in Counter(get_keywords_eng(content)).most_common(5)])\n",
    "\n",
    "\n",
    "df['keywords'] = results"
   ]
  },
  {
   "cell_type": "code",
   "execution_count": null,
   "metadata": {},
   "outputs": [],
   "source": [
    "from wordcloud import WordCloud\n",
    "import matplotlib.pyplot as plt\n",
    "text = str(results)\n",
    "wordcloud = WordCloud(max_font_size=50, max_words=100, background_color=\"white\").generate(text)\n",
    "plt.figure()\n",
    "plt.imshow(wordcloud, interpolation=\"bilinear\")\n",
    "plt.axis(\"off\")\n",
    "plt.show()"
   ]
  },
  {
   "cell_type": "code",
   "execution_count": null,
   "metadata": {},
   "outputs": [],
   "source": [
    "pip install wordcloud"
   ]
  },
  {
   "cell_type": "code",
   "execution_count": null,
   "metadata": {},
   "outputs": [],
   "source": [
    "df.to_csv(r'Covid.csv')"
   ]
  },
  {
   "cell_type": "code",
   "execution_count": null,
   "metadata": {},
   "outputs": [],
   "source": []
  }
 ],
 "metadata": {
  "kernelspec": {
   "display_name": "Python 3",
   "language": "python",
   "name": "python3"
  },
  "language_info": {
   "codemirror_mode": {
    "name": "ipython",
    "version": 3
   },
   "file_extension": ".py",
   "mimetype": "text/x-python",
   "name": "python",
   "nbconvert_exporter": "python",
   "pygments_lexer": "ipython3",
   "version": "3.7.6"
  }
 },
 "nbformat": 4,
 "nbformat_minor": 4
}
